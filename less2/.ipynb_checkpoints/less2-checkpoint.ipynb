{
 "cells": [
  {
   "cell_type": "markdown",
   "id": "9b93e412",
   "metadata": {},
   "source": [
    "# part 1"
   ]
  },
  {
   "cell_type": "code",
   "execution_count": 16,
   "id": "d040b401",
   "metadata": {},
   "outputs": [
    {
     "name": "stdout",
     "output_type": "stream",
     "text": [
      "Enter a sentencemy\n"
     ]
    }
   ],
   "source": [
    "x=input(\"Enter a sentence\")"
   ]
  },
  {
   "cell_type": "code",
   "execution_count": 6,
   "id": "c0c4dc92",
   "metadata": {},
   "outputs": [
    {
     "name": "stdout",
     "output_type": "stream",
     "text": [
      "My name \n"
     ]
    }
   ],
   "source": [
    "print(x[:8])"
   ]
  },
  {
   "cell_type": "code",
   "execution_count": 8,
   "id": "2d2d8536",
   "metadata": {},
   "outputs": [
    {
     "name": "stdout",
     "output_type": "stream",
     "text": [
      "echama\n"
     ]
    }
   ],
   "source": [
    "print(x[len(x)-6:len(x)])"
   ]
  },
  {
   "cell_type": "code",
   "execution_count": 9,
   "id": "2f8aca02",
   "metadata": {},
   "outputs": [
    {
     "name": "stdout",
     "output_type": "stream",
     "text": [
      "Mnesea\n"
     ]
    }
   ],
   "source": [
    "print(x[::3])"
   ]
  },
  {
   "cell_type": "code",
   "execution_count": 11,
   "id": "84114f7e",
   "metadata": {},
   "outputs": [
    {
     "name": "stdout",
     "output_type": "stream",
     "text": [
      "My n\n"
     ]
    }
   ],
   "source": [
    "print(x[:len(x)//4])"
   ]
  },
  {
   "cell_type": "code",
   "execution_count": 12,
   "id": "4fd1e497",
   "metadata": {},
   "outputs": [
    {
     "name": "stdout",
     "output_type": "stream",
     "text": [
      "MY NAME IS NECHAMA\n"
     ]
    }
   ],
   "source": [
    "print(x.upper())"
   ]
  },
  {
   "cell_type": "code",
   "execution_count": 13,
   "id": "0018b967",
   "metadata": {},
   "outputs": [
    {
     "name": "stdout",
     "output_type": "stream",
     "text": [
      "amahceN si eman yM\n"
     ]
    }
   ],
   "source": [
    "print(x[::-1])"
   ]
  },
  {
   "cell_type": "markdown",
   "id": "a2b6d3ba",
   "metadata": {},
   "source": [
    "# part 2\n"
   ]
  },
  {
   "cell_type": "code",
   "execution_count": 17,
   "id": "8caa669e",
   "metadata": {},
   "outputs": [],
   "source": [
    "s=\"hello world\""
   ]
  },
  {
   "cell_type": "code",
   "execution_count": 18,
   "id": "b689e84e",
   "metadata": {},
   "outputs": [],
   "source": [
    "d={}"
   ]
  },
  {
   "cell_type": "code",
   "execution_count": 22,
   "id": "2045ea2e",
   "metadata": {},
   "outputs": [],
   "source": [
    "for i in s:\n",
    "    if i in d:\n",
    "        d[i]+=1\n",
    "    else:\n",
    "        d[i]=1"
   ]
  },
  {
   "cell_type": "code",
   "execution_count": 23,
   "id": "b115a622",
   "metadata": {},
   "outputs": [
    {
     "name": "stdout",
     "output_type": "stream",
     "text": [
      "{'h': 1, 'e': 1, 'l': 3, 'o': 2, ' ': 1, 'w': 1, 'r': 1, 'd': 1}\n"
     ]
    }
   ],
   "source": [
    "print(d)"
   ]
  },
  {
   "cell_type": "markdown",
   "id": "aabd6c2e",
   "metadata": {},
   "source": [
    "# part 3"
   ]
  },
  {
   "cell_type": "code",
   "execution_count": 47,
   "id": "acddd10f",
   "metadata": {},
   "outputs": [
    {
     "name": "stdout",
     "output_type": "stream",
     "text": [
      "Enter a stringp\n"
     ]
    }
   ],
   "source": [
    "str=input(\"Enter a string\")"
   ]
  },
  {
   "cell_type": "code",
   "execution_count": 48,
   "id": "8549cece",
   "metadata": {},
   "outputs": [],
   "source": [
    "if len(str)<2:\n",
    "    s1=\"\"\n",
    "else:s1=str[:2]+str[len(str)-2:len(str)]\n",
    "    "
   ]
  },
  {
   "cell_type": "code",
   "execution_count": 49,
   "id": "e35bcabe",
   "metadata": {},
   "outputs": [
    {
     "name": "stdout",
     "output_type": "stream",
     "text": [
      "\n"
     ]
    }
   ],
   "source": [
    "print(s1)"
   ]
  },
  {
   "cell_type": "markdown",
   "id": "eee4cd01",
   "metadata": {},
   "source": [
    "# part 4"
   ]
  },
  {
   "cell_type": "markdown",
   "id": "b815a152",
   "metadata": {},
   "source": [
    "# a."
   ]
  },
  {
   "cell_type": "code",
   "execution_count": 58,
   "id": "02757a22",
   "metadata": {},
   "outputs": [
    {
     "name": "stdout",
     "output_type": "stream",
     "text": [
      "Enter a stringtamar\n"
     ]
    }
   ],
   "source": [
    "str=input(\"Enter a string\")"
   ]
  },
  {
   "cell_type": "code",
   "execution_count": 59,
   "id": "d72c352a",
   "metadata": {},
   "outputs": [],
   "source": [
    "s2=str[0]+str[len(str)//2]+str[-1]"
   ]
  },
  {
   "cell_type": "code",
   "execution_count": 60,
   "id": "9cf73a46",
   "metadata": {},
   "outputs": [
    {
     "name": "stdout",
     "output_type": "stream",
     "text": [
      "tmr\n"
     ]
    }
   ],
   "source": [
    "print(s2)"
   ]
  },
  {
   "cell_type": "markdown",
   "id": "f691bb5d",
   "metadata": {},
   "source": [
    "# b."
   ]
  },
  {
   "cell_type": "code",
   "execution_count": 3,
   "id": "f4e49a00",
   "metadata": {},
   "outputs": [
    {
     "name": "stdout",
     "output_type": "stream",
     "text": [
      "Enter a stringtamar\n"
     ]
    }
   ],
   "source": [
    "str=input(\"Enter a string\")"
   ]
  },
  {
   "cell_type": "code",
   "execution_count": 4,
   "id": "b3f72894",
   "metadata": {},
   "outputs": [],
   "source": [
    "s3=str[(len(str)//2)-1:(len(str)//2)+2]"
   ]
  },
  {
   "cell_type": "code",
   "execution_count": 39,
   "id": "e6f49939",
   "metadata": {},
   "outputs": [
    {
     "name": "stdout",
     "output_type": "stream",
     "text": [
      "ama\n"
     ]
    }
   ],
   "source": [
    "print(s3)"
   ]
  },
  {
   "cell_type": "markdown",
   "id": "74b3bfb2",
   "metadata": {},
   "source": [
    "# part 5"
   ]
  },
  {
   "cell_type": "code",
   "execution_count": 47,
   "id": "c4a87083",
   "metadata": {},
   "outputs": [
    {
     "name": "stdout",
     "output_type": "stream",
     "text": [
      "24690\n"
     ]
    }
   ],
   "source": [
    "sum=0\n",
    "num=0\n",
    "n=5\n",
    "while(n>0):\n",
    "    i=n\n",
    "    while(i>0):\n",
    "        num=(num*10)+2\n",
    "       \n",
    "        sum+=num\n",
    "        i-=1\n",
    "        n-=1\n",
    "print(sum)"
   ]
  },
  {
   "cell_type": "markdown",
   "id": "fe67bfd5",
   "metadata": {},
   "source": [
    "# part 6"
   ]
  },
  {
   "cell_type": "code",
   "execution_count": 25,
   "id": "f0423e61",
   "metadata": {},
   "outputs": [
    {
     "name": "stdout",
     "output_type": "stream",
     "text": [
      "['Green', 'White', 'Black']\n"
     ]
    }
   ],
   "source": [
    "ls=[\"Red\",\"Green\",\"White\",\"Black\",\"Pink\",\"Yellow\"]\n",
    "del ls[5]\n",
    "del ls[4]\n",
    "del ls[0]\n",
    "print(ls)"
   ]
  },
  {
   "cell_type": "markdown",
   "id": "ba7c308b",
   "metadata": {},
   "source": [
    "# part 7"
   ]
  },
  {
   "cell_type": "code",
   "execution_count": 30,
   "id": "d3f42149",
   "metadata": {},
   "outputs": [],
   "source": [
    "fruits=[\"apple\",\"banana\",\"cherry\",\"kiwi\",\"mango\"]"
   ]
  },
  {
   "cell_type": "code",
   "execution_count": 31,
   "id": "054f0ace",
   "metadata": {},
   "outputs": [],
   "source": [
    "NewList=[]"
   ]
  },
  {
   "cell_type": "code",
   "execution_count": 32,
   "id": "ca9fe20e",
   "metadata": {},
   "outputs": [],
   "source": [
    "for i in fruits:\n",
    "    if \"a\" in i:\n",
    "        NewList.append(i)\n",
    "    \n",
    "    "
   ]
  },
  {
   "cell_type": "code",
   "execution_count": 33,
   "id": "8cfbff79",
   "metadata": {},
   "outputs": [
    {
     "name": "stdout",
     "output_type": "stream",
     "text": [
      "['apple', 'banana', 'mango']\n"
     ]
    }
   ],
   "source": [
    "print(NewList)"
   ]
  },
  {
   "cell_type": "markdown",
   "id": "e122faa5",
   "metadata": {},
   "source": [
    "# part 8"
   ]
  },
  {
   "cell_type": "code",
   "execution_count": 54,
   "id": "0870a2e1",
   "metadata": {},
   "outputs": [],
   "source": [
    "ls1=[3,6,9,12,15,18,20]\n",
    "ls2=[4,8,12,16,20,24,28]\n",
    "ls3=ls1[1::2]+ls2[::2]\n"
   ]
  },
  {
   "cell_type": "code",
   "execution_count": 55,
   "id": "27a1697e",
   "metadata": {},
   "outputs": [
    {
     "name": "stdout",
     "output_type": "stream",
     "text": [
      "[6, 12, 18, 4, 12, 20, 28]\n"
     ]
    }
   ],
   "source": [
    "print(ls3)"
   ]
  },
  {
   "cell_type": "markdown",
   "id": "8a37414b",
   "metadata": {},
   "source": [
    "# part 9"
   ]
  },
  {
   "cell_type": "code",
   "execution_count": 62,
   "id": "09923584",
   "metadata": {},
   "outputs": [
    {
     "name": "stdout",
     "output_type": "stream",
     "text": [
      "[0, 1, 1, 2, 3, 5, 8, 13, 21, 34]\n"
     ]
    }
   ],
   "source": [
    "ls=[0,1]\n",
    "i=2\n",
    "while(i<10):\n",
    "    ls.append(ls[(i-2)]+ls[(i-1)])\n",
    "    i+=1\n",
    "print(ls)    \n"
   ]
  },
  {
   "cell_type": "markdown",
   "id": "7f3e2a70",
   "metadata": {},
   "source": [
    "# part 10\n",
    "\n"
   ]
  },
  {
   "cell_type": "code",
   "execution_count": 67,
   "id": "307429a5",
   "metadata": {},
   "outputs": [],
   "source": [
    "\n",
    "d={}"
   ]
  },
  {
   "cell_type": "code",
   "execution_count": 70,
   "id": "6c4730cd",
   "metadata": {},
   "outputs": [
    {
     "name": "stdout",
     "output_type": "stream",
     "text": [
      "{1: 1, 2: 4, 3: 9, 4: 16, 5: 25, 6: 36, 7: 49, 8: 64, 9: 81, 10: 100, 11: 121, 12: 144, 13: 169, 14: 196, 15: 225}\n"
     ]
    }
   ],
   "source": [
    "for i in range(1,16):       \n",
    "    d[i]=i*i\n",
    "print(d)\n",
    "   "
   ]
  },
  {
   "cell_type": "code",
   "execution_count": null,
   "id": "1510eb5c",
   "metadata": {},
   "outputs": [],
   "source": []
  }
 ],
 "metadata": {
  "kernelspec": {
   "display_name": "Python 3 (ipykernel)",
   "language": "python",
   "name": "python3"
  },
  "language_info": {
   "codemirror_mode": {
    "name": "ipython",
    "version": 3
   },
   "file_extension": ".py",
   "mimetype": "text/x-python",
   "name": "python",
   "nbconvert_exporter": "python",
   "pygments_lexer": "ipython3",
   "version": "3.10.9"
  }
 },
 "nbformat": 4,
 "nbformat_minor": 5
}
