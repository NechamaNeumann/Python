{
 "cells": [
  {
   "cell_type": "code",
   "execution_count": 16,
   "id": "d3a2c6eb",
   "metadata": {},
   "outputs": [],
   "source": [
    "with open('homework.txt','r') as hw:\n",
    "    content=hw.readlines() "
   ]
  },
  {
   "cell_type": "code",
   "execution_count": 20,
   "id": "b75f89c8",
   "metadata": {},
   "outputs": [
    {
     "ename": "SyntaxError",
     "evalue": "incomplete input (590500294.py, line 2)",
     "output_type": "error",
     "traceback": [
      "\u001b[1;36m  Cell \u001b[1;32mIn[20], line 2\u001b[1;36m\u001b[0m\n\u001b[1;33m    \u001b[0m\n\u001b[1;37m    ^\u001b[0m\n\u001b[1;31mSyntaxError\u001b[0m\u001b[1;31m:\u001b[0m incomplete input\n"
     ]
    }
   ],
   "source": [
    "with open('solutions.txt','a') as s:\n",
    "     "
   ]
  },
  {
   "cell_type": "code",
   "execution_count": 22,
   "id": "e7d76e2d",
   "metadata": {},
   "outputs": [],
   "source": [
    "for i in content:\n",
    "    x=i.split(\" \")\n",
    "    if x[0].isdigit() and x[2].isdigit():\n",
    "        match x[1]:\n",
    "            case '+':\n",
    "                s.append( x[0]+\"+\"+ x[2]+ \"=\"+ x[0]+x[2] )\n",
    "            case '-':\n",
    "                s.append( x[0]+\"-\"+ x[2]+ \"=\"+ x[0]-x[2] )\n",
    "            case '*':\n",
    "                s.append( x[0]+\"*\"+ x[2]+ \"=\"+ x[0]*x[2] )\n",
    "            \n",
    "        "
   ]
  },
  {
   "cell_type": "code",
   "execution_count": null,
   "id": "fa0b60b1",
   "metadata": {},
   "outputs": [],
   "source": []
  },
  {
   "cell_type": "code",
   "execution_count": null,
   "id": "b47d6173",
   "metadata": {},
   "outputs": [],
   "source": []
  },
  {
   "cell_type": "code",
   "execution_count": null,
   "id": "c85a277f",
   "metadata": {},
   "outputs": [],
   "source": [
    "\n",
    "\n"
   ]
  }
 ],
 "metadata": {
  "kernelspec": {
   "display_name": "Python 3 (ipykernel)",
   "language": "python",
   "name": "python3"
  },
  "language_info": {
   "codemirror_mode": {
    "name": "ipython",
    "version": 3
   },
   "file_extension": ".py",
   "mimetype": "text/x-python",
   "name": "python",
   "nbconvert_exporter": "python",
   "pygments_lexer": "ipython3",
   "version": "3.10.9"
  }
 },
 "nbformat": 4,
 "nbformat_minor": 5
}
