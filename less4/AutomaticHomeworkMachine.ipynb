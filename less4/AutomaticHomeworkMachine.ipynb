{
 "cells": [
  {
   "cell_type": "code",
   "execution_count": 31,
   "id": "2735f44a",
   "metadata": {},
   "outputs": [],
   "source": [
    "with open('homework.txt','r') as hw:\n",
    "    content=hw.readlines() "
   ]
  },
  {
   "cell_type": "code",
   "execution_count": 32,
   "id": "734aab69",
   "metadata": {},
   "outputs": [
    {
     "name": "stdout",
     "output_type": "stream",
     "text": [
      "['55 + 66\\n', '77 * 88\\n', '44 +76\\n', '9 * 8\\n', '66 + 31']\n"
     ]
    }
   ],
   "source": [
    "print(content)\n",
    "     "
   ]
  },
  {
   "cell_type": "code",
   "execution_count": 28,
   "id": "36b98eb5",
   "metadata": {},
   "outputs": [],
   "source": [
    "with open('solutions.txt','a') as s:\n",
    "    for i in content:\n",
    "        x=i.split(\" \")\n",
    "        if x[0].isdigit() and x[2].isdigit():\n",
    "            match x[1]:\n",
    "                case '+':\n",
    "                    s.write( x[0] + x[1] + x[2] + \"=\"+ x[0]+x[2] )\n",
    "                case '-':\n",
    "                    s.write( x[0] + x[1] + x[2] + \"=\"+ x[0]-x[2] )\n",
    "                case '*':\n",
    "                    s.write( x[0] + x[1] + x[2] + \"=\"+ x[0]*x[2] )\n",
    "                case '/':\n",
    "                    if(x[2]==0):\n",
    "                    s.write(\"the exersise is invalid\")\n",
    "                    else: vv                     |\n",
    "                    s.write( x[0] + x[1] + x[2] + \"=\"+ x[0]/x[2] )\n",
    "\n",
    "        "
   ]
  },
  {
   "cell_type": "code",
   "execution_count": null,
   "id": "cea732de",
   "metadata": {},
   "outputs": [],
   "source": []
  },
  {
   "cell_type": "code",
   "execution_count": null,
   "id": "22ed4d0c",
   "metadata": {},
   "outputs": [],
   "source": []
  },
  {
   "cell_type": "code",
   "execution_count": null,
   "id": "4b708eac",
   "metadata": {},
   "outputs": [],
   "source": [
    "\n",
    "\n"
   ]
  }
 ],
 "metadata": {
  "kernelspec": {
   "display_name": "Python 3 (ipykernel)",
   "language": "python",
   "name": "python3"
  },
  "language_info": {
   "codemirror_mode": {
    "name": "ipython",
    "version": 3
   },
   "file_extension": ".py",
   "mimetype": "text/x-python",
   "name": "python",
   "nbconvert_exporter": "python",
   "pygments_lexer": "ipython3",
   "version": "3.10.9"
  }
 },
 "nbformat": 4,
 "nbformat_minor": 5
}
