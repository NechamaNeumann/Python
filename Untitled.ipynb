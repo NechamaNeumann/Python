{
 "cells": [
  {
   "cell_type": "markdown",
   "id": "2f3a5551",
   "metadata": {},
   "source": [
    ".1"
   ]
  },
  {
   "cell_type": "code",
   "execution_count": 10,
   "id": "1de4e884",
   "metadata": {},
   "outputs": [
    {
     "data": {
      "text/plain": [
       "12"
      ]
     },
     "execution_count": 10,
     "metadata": {},
     "output_type": "execute_result"
    }
   ],
   "source": [
    "def add2(x=2,y=6,z=9):\n",
    "      return x+y+z\n",
    "add2(3,4,5)\n",
    "\n",
    "    \n"
   ]
  },
  {
   "cell_type": "code",
   "execution_count": 9,
   "id": "7ce4457f",
   "metadata": {},
   "outputs": [
    {
     "data": {
      "text/plain": [
       "12"
      ]
     },
     "execution_count": 9,
     "metadata": {},
     "output_type": "execute_result"
    }
   ],
   "source": [
    "def add(x,y,z):\n",
    "    return x+y+z\n",
    "add(3,4,5)"
   ]
  },
  {
   "cell_type": "code",
   "execution_count": 30,
   "id": "9884fab6",
   "metadata": {},
   "outputs": [
    {
     "data": {
      "text/plain": [
       "14"
      ]
     },
     "execution_count": 30,
     "metadata": {},
     "output_type": "execute_result"
    }
   ],
   "source": [
    "def add3(*t):\n",
    "    sum=0\n",
    "    for i in t:\n",
    "        sum+=i\n",
    "    return sum\n",
    "t=(2,3,4,5)\n",
    "add3(*t)\n",
    "    "
   ]
  },
  {
   "cell_type": "markdown",
   "id": "334742c9",
   "metadata": {},
   "source": [
    ".2"
   ]
  },
  {
   "cell_type": "code",
   "execution_count": 47,
   "id": "2d5b5b4f",
   "metadata": {},
   "outputs": [
    {
     "name": "stdout",
     "output_type": "stream",
     "text": [
      "insert number10\n"
     ]
    },
    {
     "data": {
      "text/plain": [
       "'false'"
      ]
     },
     "execution_count": 47,
     "metadata": {},
     "output_type": "execute_result"
    }
   ],
   "source": [
    "def range1(y,z):\n",
    "    x=(int)(input(\"insert number\"))\n",
    "    if(x in range(y,z)):\n",
    "        return \"true\"\n",
    "    else:\n",
    "        return \"false\"\n",
    "range1(2,9)"
   ]
  },
  {
   "cell_type": "markdown",
   "id": "56f7724d",
   "metadata": {},
   "source": [
    ".3"
   ]
  },
  {
   "cell_type": "code",
   "execution_count": 57,
   "id": "35cd5a6f",
   "metadata": {},
   "outputs": [
    {
     "name": "stdout",
     "output_type": "stream",
     "text": [
      "num of upper charecters:  1\n",
      "num of lower charecters:  6\n"
     ]
    }
   ],
   "source": [
    "def count(str):\n",
    "    count1=0\n",
    "    count2=0\n",
    "    for i in str:\n",
    "        if(i.isupper()) :\n",
    "            count1+=1\n",
    "        if(i.islower()) :\n",
    "            count2+=1\n",
    "    print(\"num of upper charecters: \",count1)\n",
    "    print(\"num of lower charecters: \",count2)\n",
    "str=\"Nechama\"\n",
    "count(str)\n"
   ]
  },
  {
   "cell_type": "markdown",
   "id": "5023a7e9",
   "metadata": {},
   "source": [
    ".4"
   ]
  },
  {
   "cell_type": "code",
   "execution_count": 64,
   "id": "36d0543e",
   "metadata": {},
   "outputs": [
    {
     "name": "stdout",
     "output_type": "stream",
     "text": [
      "2\n",
      "4\n",
      "6\n",
      "8\n"
     ]
    }
   ],
   "source": [
    "def fun(list):\n",
    "    for i in list:\n",
    "        if(i%2==0):\n",
    "            print(i)\n",
    "list=[2,3,4,5,6,7,8,9]\n",
    "fun(list)       \n",
    "        \n",
    "        "
   ]
  },
  {
   "cell_type": "markdown",
   "id": "cede2a01",
   "metadata": {},
   "source": [
    ".5"
   ]
  },
  {
   "cell_type": "code",
   "execution_count": 68,
   "id": "2ff99ef1",
   "metadata": {},
   "outputs": [
    {
     "data": {
      "text/plain": [
       "'True'"
      ]
     },
     "execution_count": 68,
     "metadata": {},
     "output_type": "execute_result"
    }
   ],
   "source": [
    "def ispolindrom(str):\n",
    "    left_pos = 0\n",
    "    right_pos = len(str) - 1\n",
    "    while (right_pos >= left_pos):\n",
    "        if not(str[right_pos] == str[left_pos]):\n",
    "            return \"false\"\n",
    "        left_pos += 1\n",
    "        right_pos -= 1\n",
    "        \n",
    "    return \"True\"\n",
    "        \n",
    "str=\"madam\"\n",
    "ispolindrom(str)"
   ]
  },
  {
   "cell_type": "markdown",
   "id": "a81cead2",
   "metadata": {},
   "source": [
    ".6"
   ]
  },
  {
   "cell_type": "code",
   "execution_count": 70,
   "id": "06f7a1b8",
   "metadata": {},
   "outputs": [
    {
     "name": "stdout",
     "output_type": "stream",
     "text": [
      "Original list of dictionaries:\n",
      "[{'make': 'Nokia', 'model': 216, 'color': 'Black'}, {'make': 'Mi Max', 'model': '2', 'color': 'Gold'}, {'make': 'Samsung', 'model': 7, 'color': 'Blue'}]\n",
      "sorted list of dictionaries:\n",
      "[{'make': 'Mi Max', 'model': '2', 'color': 'Gold'}, {'make': 'Nokia', 'model': 216, 'color': 'Black'}, {'make': 'Samsung', 'model': 7, 'color': 'Blue'}]\n"
     ]
    }
   ],
   "source": [
    "models = [\n",
    "    {'make': 'Nokia', 'model': 216, 'color': 'Black'},\n",
    "    {'make': 'Mi Max', 'model': '2', 'color': 'Gold'},\n",
    "    {'make': 'Samsung', 'model': 7, 'color': 'Blue'}\n",
    "]\n",
    "print(\"Original list of dictionaries:\")\n",
    "print(models)\n",
    "\n",
    "sorted_models = sorted(models, key=lambda x: x['make'])\n",
    "print(\"sorted list of dictionaries:\")\n",
    "print(sorted_models)"
   ]
  },
  {
   "cell_type": "markdown",
   "id": "48841ce0",
   "metadata": {},
   "source": [
    ".7"
   ]
  },
  {
   "cell_type": "code",
   "execution_count": 72,
   "id": "f69244d6",
   "metadata": {},
   "outputs": [],
   "source": [
    "import string, os\n",
    "if not os.path.exists(\"letters\"):\n",
    "   os.makedirs(\"letters\")\n",
    "for letter in string.ascii_uppercase:\n",
    "   with open(letter + \".txt\", \"w\") as f:\n",
    "       f.writelines(letter)\n",
    "\n"
   ]
  },
  {
   "cell_type": "code",
   "execution_count": null,
   "id": "13387ac3",
   "metadata": {},
   "outputs": [],
   "source": []
  }
 ],
 "metadata": {
  "kernelspec": {
   "display_name": "Python 3 (ipykernel)",
   "language": "python",
   "name": "python3"
  },
  "language_info": {
   "codemirror_mode": {
    "name": "ipython",
    "version": 3
   },
   "file_extension": ".py",
   "mimetype": "text/x-python",
   "name": "python",
   "nbconvert_exporter": "python",
   "pygments_lexer": "ipython3",
   "version": "3.10.9"
  }
 },
 "nbformat": 4,
 "nbformat_minor": 5
}
