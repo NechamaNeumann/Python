{
 "cells": [
  {
   "cell_type": "markdown",
   "id": "c3b8d4f7",
   "metadata": {},
   "source": [
    "# .1"
   ]
  },
  {
   "cell_type": "code",
   "execution_count": null,
   "id": "7d34bdc2",
   "metadata": {},
   "outputs": [],
   "source": [
    "import random"
   ]
  },
  {
   "cell_type": "code",
   "execution_count": 16,
   "id": "c693f1ef",
   "metadata": {},
   "outputs": [],
   "source": [
    "generator_1=(random.randrange(0,1000) for i in range(1000))"
   ]
  },
  {
   "cell_type": "code",
   "execution_count": 20,
   "id": "c6c622d4",
   "metadata": {},
   "outputs": [
    {
     "name": "stdout",
     "output_type": "stream",
     "text": [
      "805\n"
     ]
    }
   ],
   "source": [
    "print(next(generator_1))"
   ]
  },
  {
   "cell_type": "markdown",
   "id": "b1e5293a",
   "metadata": {},
   "source": [
    "# .2"
   ]
  },
  {
   "cell_type": "code",
   "execution_count": 28,
   "id": "cb5af3a7",
   "metadata": {},
   "outputs": [],
   "source": [
    "def translate(sentence):\n",
    "    words = {'esta': 'is', 'la': 'the', 'en': 'in', 'gato': 'cat', 'casa': 'house', 'el': 'the' }\n",
    "    new_sentencs=sentence.split(\" \")\n",
    "    for i in new_sentencs:\n",
    "        yield words[i]\n",
    "    \n",
    "\n",
    "def function(sentence):\n",
    "    print(\" \".join(str(i) for i in translate(sentence)))\n",
    "       \n",
    "    \n",
    "\n"
   ]
  },
  {
   "cell_type": "code",
   "execution_count": 30,
   "id": "c496f25e",
   "metadata": {
    "scrolled": true
   },
   "outputs": [
    {
     "name": "stdout",
     "output_type": "stream",
     "text": [
      "the cat is in the house\n"
     ]
    }
   ],
   "source": [
    "function(\"el gato esta en la casa\")"
   ]
  },
  {
   "cell_type": "markdown",
   "id": "c77c7694",
   "metadata": {},
   "source": [
    "# .4"
   ]
  },
  {
   "cell_type": "code",
   "execution_count": 41,
   "id": "5c73c5fd",
   "metadata": {},
   "outputs": [],
   "source": [
    "class Node:\n",
    "    def __init__(self, value):\n",
    "        self.value = value\n",
    "        self.next = None\n",
    " "
   ]
  },
  {
   "cell_type": "code",
   "execution_count": 46,
   "id": "0620c2fe",
   "metadata": {},
   "outputs": [],
   "source": [
    "class Mystack:\n",
    "    def __init__(self):\n",
    "        self.head = Node(\"head\")\n",
    "        self.size = 0\n",
    "        \n",
    "    def isEmpty(self):\n",
    "        return self.size == 0\n",
    " \n",
    " \n",
    "    \n",
    "    def push(self, value):\n",
    "        node = Node(value)\n",
    "        node.next = self.head.next\n",
    "        self.head.next = node\n",
    "        self.size += 1\n",
    " \n",
    "   \n",
    "    def pop(self):\n",
    "        if self.isEmpty():\n",
    "            raise Exception(\"Popping from an empty stack\")\n",
    "        remove = self.head.next\n",
    "        self.head.next = self.head.next.next\n",
    "        self.size -= 1\n",
    "        return remove.value\n",
    " \n",
    "    \n"
   ]
  },
  {
   "cell_type": "code",
   "execution_count": 47,
   "id": "654eb3ed",
   "metadata": {},
   "outputs": [],
   "source": [
    "s=Mystack()"
   ]
  },
  {
   "cell_type": "code",
   "execution_count": 48,
   "id": "0c68db9c",
   "metadata": {},
   "outputs": [],
   "source": [
    "s.push(2)"
   ]
  },
  {
   "cell_type": "code",
   "execution_count": 49,
   "id": "a5976ff7",
   "metadata": {},
   "outputs": [
    {
     "data": {
      "text/plain": [
       "2"
      ]
     },
     "execution_count": 49,
     "metadata": {},
     "output_type": "execute_result"
    }
   ],
   "source": [
    "s.pop()"
   ]
  },
  {
   "cell_type": "code",
   "execution_count": 50,
   "id": "47caf8d5",
   "metadata": {},
   "outputs": [],
   "source": [
    "s.push(4)"
   ]
  },
  {
   "cell_type": "code",
   "execution_count": 51,
   "id": "15d64531",
   "metadata": {},
   "outputs": [
    {
     "data": {
      "text/plain": [
       "4"
      ]
     },
     "execution_count": 51,
     "metadata": {},
     "output_type": "execute_result"
    }
   ],
   "source": [
    "s.pop()"
   ]
  },
  {
   "cell_type": "code",
   "execution_count": null,
   "id": "9cc0d01a",
   "metadata": {},
   "outputs": [],
   "source": []
  }
 ],
 "metadata": {
  "kernelspec": {
   "display_name": "Python 3 (ipykernel)",
   "language": "python",
   "name": "python3"
  },
  "language_info": {
   "codemirror_mode": {
    "name": "ipython",
    "version": 3
   },
   "file_extension": ".py",
   "mimetype": "text/x-python",
   "name": "python",
   "nbconvert_exporter": "python",
   "pygments_lexer": "ipython3",
   "version": "3.10.9"
  }
 },
 "nbformat": 4,
 "nbformat_minor": 5
}
